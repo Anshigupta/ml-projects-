{
  "nbformat": 4,
  "nbformat_minor": 0,
  "metadata": {
    "colab": {
      "name": "bagging algo.ipynb",
      "provenance": [],
      "authorship_tag": "ABX9TyNJjN4vysmldxFop7M/t8LS",
      "include_colab_link": true
    },
    "kernelspec": {
      "name": "python3",
      "display_name": "Python 3"
    },
    "language_info": {
      "name": "python"
    }
  },
  "cells": [
    {
      "cell_type": "markdown",
      "metadata": {
        "id": "view-in-github",
        "colab_type": "text"
      },
      "source": [
        "<a href=\"https://colab.research.google.com/github/Anshigupta/ml-projects-/blob/main/bagging_algo.ipynb\" target=\"_parent\"><img src=\"https://colab.research.google.com/assets/colab-badge.svg\" alt=\"Open In Colab\"/></a>"
      ]
    },
    {
      "cell_type": "code",
      "metadata": {
        "id": "uPCSmXaxGrGx"
      },
      "source": [
        "# import libraries\n",
        "import numpy as np\n",
        "import pandas as pd\n",
        "import matplotlib.pyplot as plt\n",
        "import seaborn as sns\n",
        "\n",
        "%matplotlib inline\n",
        "\n",
        "from sklearn.ensemble import BaggingClassifier\n",
        "from sklearn.neighbors import KNeighborsClassifier"
      ],
      "execution_count": 28,
      "outputs": []
    },
    {
      "cell_type": "code",
      "metadata": {
        "id": "gFyoSPl8J7rI"
      },
      "source": [
        "#importing the dataset\n",
        "from sklearn.datasets import load_breast_cancer \n",
        "dataset = load_breast_cancer()\n",
        "x = dataset.data\n",
        "y = dataset.target"
      ],
      "execution_count": 29,
      "outputs": []
    },
    {
      "cell_type": "code",
      "metadata": {
        "id": "s2Rz0YK-KSLI"
      },
      "source": [
        "from sklearn.model_selection import train_test_split                      #split the dataset\n",
        "x_train,x_test,y_train,y_test = train_test_split(x,y,random_state=3)\n",
        "                                                 "
      ],
      "execution_count": 30,
      "outputs": []
    },
    {
      "cell_type": "code",
      "metadata": {
        "colab": {
          "base_uri": "https://localhost:8080/"
        },
        "id": "MB9jZUtsKsWi",
        "outputId": "005c676f-fc2c-46a1-be46-766c7af9db08"
      },
      "source": [
        "knn = KNeighborsClassifier(n_neighbors=5)         #Knn classifier is used\n",
        "knn.fit(x_train,y_train)                             \n",
        "knn.predict(x_test)\n",
        "knn.score(x_test,y_test)"
      ],
      "execution_count": 31,
      "outputs": [
        {
          "output_type": "execute_result",
          "data": {
            "text/plain": [
              "0.916083916083916"
            ]
          },
          "metadata": {
            "tags": []
          },
          "execution_count": 31
        }
      ]
    },
    {
      "cell_type": "code",
      "metadata": {
        "id": "ZktKpq5-LQmM"
      },
      "source": [
        "#Bagging:- It's an esemble technique where multiple decision classifiers are used.In this overlapping of dataset happens.\n",
        "\n",
        "\n",
        "bag_knn = BaggingClassifier(KNeighborsClassifier(n_neighbors=5),\n",
        "                            n_estimators = 10,max_samples=0.5,bootstrap=True,random_state=3,oob_score=True)"
      ],
      "execution_count": 24,
      "outputs": []
    },
    {
      "cell_type": "code",
      "metadata": {
        "colab": {
          "base_uri": "https://localhost:8080/"
        },
        "id": "21Ew5GsiLoxi",
        "outputId": "f11c8213-fb77-4ef8-9e55-4af2ca2c2db3"
      },
      "source": [
        "bag_knn.fit(x_train,y_train)\n",
        "bag_knn.score(x_test,y_test)"
      ],
      "execution_count": 25,
      "outputs": [
        {
          "output_type": "execute_result",
          "data": {
            "text/plain": [
              "0.9370629370629371"
            ]
          },
          "metadata": {
            "tags": []
          },
          "execution_count": 25
        }
      ]
    },
    {
      "cell_type": "code",
      "metadata": {
        "id": "C2LJi9NkLy-9"
      },
      "source": [
        "#Overlapping doestn't exists.\n",
        "\n",
        "paste_knn = BaggingClassifier(KNeighborsClassifier(n_neighbors=5),\n",
        "                            n_estimators = 10,max_samples=0.5,bootstrap=False,random_state=3)"
      ],
      "execution_count": 26,
      "outputs": []
    },
    {
      "cell_type": "code",
      "metadata": {
        "colab": {
          "base_uri": "https://localhost:8080/"
        },
        "id": "qAEONsjZMLGu",
        "outputId": "13c2fb83-5b30-4c9c-c8da-f365df28c82f"
      },
      "source": [
        "#fit  the dataset.\n",
        "\n",
        "paste_knn.fit(x_train,y_train)\n",
        "\n",
        "# accuracy\n",
        "paste_knn.score(x_test,y_test)"
      ],
      "execution_count": 32,
      "outputs": [
        {
          "output_type": "execute_result",
          "data": {
            "text/plain": [
              "0.9300699300699301"
            ]
          },
          "metadata": {
            "tags": []
          },
          "execution_count": 32
        }
      ]
    },
    {
      "cell_type": "code",
      "metadata": {
        "id": "xjsFi2_1MR0m"
      },
      "source": [
        "\n"
      ],
      "execution_count": null,
      "outputs": []
    }
  ]
}